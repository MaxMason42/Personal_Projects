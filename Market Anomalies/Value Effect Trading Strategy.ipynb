{
 "cells": [
  {
   "cell_type": "markdown",
   "metadata": {},
   "source": [
    "# Market Anomalies\n",
    "\n",
    "In these notebooks I will be looking into different market anomalies and testing basic investing strategies revolving around these anomalies."
   ]
  },
  {
   "cell_type": "markdown",
   "metadata": {},
   "source": [
    "## 1. Value Effect:\n",
    "\n",
    "This anomaly is based on the tendency for stocks with low price to earnings ratios to outperform other stocks.\n",
    "\n",
    "I will be using stocks in the S&P 500, ranking on E/P ratio and investing in the top 10% where the investments will be weighted by the E/P ratio and traded at the end of every month."
   ]
  },
  {
   "cell_type": "code",
   "execution_count": 1,
   "metadata": {},
   "outputs": [
    {
     "name": "stdout",
     "output_type": "stream",
     "text": [
      "WRDS recommends setting up a .pgpass file.\n",
      "You can create this file yourself at any time with the create_pgpass_file() function.\n",
      "Loading library list...\n",
      "Done\n"
     ]
    }
   ],
   "source": [
    "import wrds\n",
    "import yfinance\n",
    "import pandas as pd\n",
    "import matplotlib.pyplot as plt\n",
    "import warnings\n",
    "\n",
    "warnings.filterwarnings('ignore', category=FutureWarning)\n",
    "\n",
    "conn = wrds.Connection()"
   ]
  },
  {
   "cell_type": "code",
   "execution_count": 2,
   "metadata": {},
   "outputs": [],
   "source": [
    "start_date = '2003-12-31'\n",
    "end_date = '2023-11-30'\n",
    "\n",
    "dates = pd.date_range(start=start_date, end=end_date, freq='ME')\n",
    "\n",
    "dates_list = dates.tolist()\n",
    "dates_list.append(pd.to_datetime('2023-12-29'))\n",
    "\n",
    "def fetch_sp500_constituents(date):\n",
    "    query = f\"\"\"\n",
    "      select * \n",
    "      from crsp.dsp500list \n",
    "      where start<='{date}'\n",
    "      and ending>='{date}'\n",
    "    \"\"\"\n",
    "    return conn.raw_sql(query)\n",
    "\n",
    "constituents = {date: fetch_sp500_constituents(date) for date in dates_list}"
   ]
  },
  {
   "cell_type": "code",
   "execution_count": 3,
   "metadata": {},
   "outputs": [],
   "source": [
    "def fetch_market_cap_batch(permnos, date):\n",
    "    permnos_str = ','.join(map(str, permnos))\n",
    "    query = f\"\"\"\n",
    "    SELECT permno, cusip, date, prc, shrout\n",
    "    FROM (\n",
    "        SELECT permno, cusip, date, prc, shrout,\n",
    "               RANK() OVER (PARTITION BY permno ORDER BY date DESC) as rank\n",
    "        FROM crsp.dsf\n",
    "        WHERE permno IN ({permnos_str}) AND date <= '{date}'\n",
    "    ) ranked\n",
    "    WHERE rank = 1\n",
    "    ORDER BY permno, date DESC\n",
    "    \"\"\"\n",
    "    return conn.raw_sql(query)\n",
    "\n",
    "market_cap_data = []\n",
    "for date in dates_list:\n",
    "    permnos = constituents[date]['permno'].tolist()\n",
    "    market_cap_data.append(fetch_market_cap_batch(permnos, date))"
   ]
  },
  {
   "cell_type": "code",
   "execution_count": 4,
   "metadata": {},
   "outputs": [],
   "source": [
    "def fetch_earnings_batch(permnos, date):\n",
    "    permnos_str = ','.join(map(str, permnos))\n",
    "    query = f\"\"\"\n",
    "    SELECT distinct left(cusip, 8) as cusip, lpermno, datadate, epspxq, datafmt, exchg, conm\n",
    "    FROM (\n",
    "        SELECT a.cusip, a.datadate, a.epspxq, b.lpermno, datafmt, exchg, conm,\n",
    "               RANK() OVER (PARTITION BY b.lpermno ORDER BY a.datadate DESC) as rank\n",
    "        FROM comp.fundq as a\n",
    "        JOIN (SELECT cusip, lpermno FROM crsp.ccm_lookup WHERE lpermno IN ({permnos_str})) as b on a.cusip = b.cusip\n",
    "        WHERE a.datadate <= '{date}'\n",
    "        AND a.epspxq IS NOT NULL\n",
    "        AND datafmt = 'STD'\n",
    "    ) ranked\n",
    "    WHERE rank = 1\n",
    "    ORDER BY lpermno, datadate DESC\n",
    "    \"\"\"\n",
    "\n",
    "    return conn.raw_sql(query)\n",
    "\n",
    "earnings_data = []\n",
    "for date in dates_list:\n",
    "    permnos = constituents[date]['permno'].tolist()\n",
    "    earnings_data.append(fetch_earnings_batch(permnos, date))"
   ]
  },
  {
   "cell_type": "code",
   "execution_count": 5,
   "metadata": {},
   "outputs": [],
   "source": [
    "monthly_data = []\n",
    "\n",
    "for i in range(len(earnings_data)):\n",
    "    market_cap_data[i]['market_cap'] =  market_cap_data[i]['prc'] * market_cap_data[i]['shrout'] * 1000\n",
    "    \n",
    "    combined_data = pd.merge(earnings_data[i], market_cap_data[i], on= 'cusip')\n",
    "\n",
    "    combined_data['E/P'] = combined_data['epspxq'] / combined_data['prc']\n",
    "\n",
    "    monthly_data.append(combined_data)"
   ]
  },
  {
   "cell_type": "code",
   "execution_count": 6,
   "metadata": {},
   "outputs": [],
   "source": [
    "monthly_company_portfolio = {}\n",
    "\n",
    "for i in range(len(dates_list)):\n",
    "    monthly_data[i]['Value_Score'] = monthly_data[i]['E/P'].rank(ascending=False) \n",
    "    top_value_stocks = monthly_data[i].nsmallest(25, 'Value_Score')\n",
    "    top_value_stocks['Weights'] = top_value_stocks['E/P']/ top_value_stocks['E/P'].sum()\n",
    "    date = dates_list[i]\n",
    "\n",
    "    monthly_company_portfolio[date] = top_value_stocks"
   ]
  },
  {
   "cell_type": "code",
   "execution_count": 7,
   "metadata": {},
   "outputs": [],
   "source": [
    "def fetch_monthly_returns(permnos, start_date, end_date):\n",
    "    permnos_str = ','.join(map(str, permnos))\n",
    "    query = f\"\"\"\n",
    "    SELECT date, permno, ret\n",
    "    FROM crsp.dsf\n",
    "    WHERE permno IN ({permnos_str}) AND date BETWEEN '{start_date}' AND '{end_date}'\n",
    "    \"\"\"\n",
    "    return conn.raw_sql(query)\n",
    "\n",
    "\n",
    "returns_data = []\n",
    "for date in dates_list:\n",
    "    permnos = monthly_company_portfolio[date]['permno'].tolist()\n",
    "\n",
    "    monthly_returns = fetch_monthly_returns(permnos, date + pd.DateOffset(days=1), (date + pd.DateOffset(months=1)) - pd.DateOffset(days=1))\n",
    "    monthly_returns = pd.merge(monthly_returns, monthly_company_portfolio[date][['permno', 'Weights']], on='permno')\n",
    "    monthly_returns['weighted_returns'] = monthly_returns['ret'] * monthly_returns['Weights']\n",
    "\n",
    "    daily_returns = monthly_returns.groupby('date')['weighted_returns'].sum().reset_index()\n",
    "\n",
    "    returns_data.append(daily_returns)\n",
    "\n",
    "returns_df = pd.concat(returns_data)\n",
    "\n",
    "returns_df['cumulative_return'] = (1 + returns_df['weighted_returns']).cumprod() - 1"
   ]
  },
  {
   "cell_type": "code",
   "execution_count": 12,
   "metadata": {},
   "outputs": [
    {
     "data": {
      "text/html": [
       "<div>\n",
       "<style scoped>\n",
       "    .dataframe tbody tr th:only-of-type {\n",
       "        vertical-align: middle;\n",
       "    }\n",
       "\n",
       "    .dataframe tbody tr th {\n",
       "        vertical-align: top;\n",
       "    }\n",
       "\n",
       "    .dataframe thead th {\n",
       "        text-align: right;\n",
       "    }\n",
       "</style>\n",
       "<table border=\"1\" class=\"dataframe\">\n",
       "  <thead>\n",
       "    <tr style=\"text-align: right;\">\n",
       "      <th></th>\n",
       "      <th>date</th>\n",
       "      <th>weighted_returns</th>\n",
       "      <th>cumulative_return</th>\n",
       "    </tr>\n",
       "  </thead>\n",
       "  <tbody>\n",
       "    <tr>\n",
       "      <th>0</th>\n",
       "      <td>2004-01-02</td>\n",
       "      <td>0.001269</td>\n",
       "      <td>0.001269</td>\n",
       "    </tr>\n",
       "    <tr>\n",
       "      <th>1</th>\n",
       "      <td>2004-01-05</td>\n",
       "      <td>0.013972</td>\n",
       "      <td>0.015259</td>\n",
       "    </tr>\n",
       "    <tr>\n",
       "      <th>2</th>\n",
       "      <td>2004-01-06</td>\n",
       "      <td>-0.002261</td>\n",
       "      <td>0.012963</td>\n",
       "    </tr>\n",
       "    <tr>\n",
       "      <th>3</th>\n",
       "      <td>2004-01-07</td>\n",
       "      <td>0.002970</td>\n",
       "      <td>0.015972</td>\n",
       "    </tr>\n",
       "    <tr>\n",
       "      <th>4</th>\n",
       "      <td>2004-01-08</td>\n",
       "      <td>0.001297</td>\n",
       "      <td>0.017290</td>\n",
       "    </tr>\n",
       "    <tr>\n",
       "      <th>...</th>\n",
       "      <td>...</td>\n",
       "      <td>...</td>\n",
       "      <td>...</td>\n",
       "    </tr>\n",
       "    <tr>\n",
       "      <th>15</th>\n",
       "      <td>2023-12-22</td>\n",
       "      <td>-0.000775</td>\n",
       "      <td>120.516306</td>\n",
       "    </tr>\n",
       "    <tr>\n",
       "      <th>16</th>\n",
       "      <td>2023-12-26</td>\n",
       "      <td>0.002960</td>\n",
       "      <td>120.875942</td>\n",
       "    </tr>\n",
       "    <tr>\n",
       "      <th>17</th>\n",
       "      <td>2023-12-27</td>\n",
       "      <td>-0.002284</td>\n",
       "      <td>120.597533</td>\n",
       "    </tr>\n",
       "    <tr>\n",
       "      <th>18</th>\n",
       "      <td>2023-12-28</td>\n",
       "      <td>-0.000555</td>\n",
       "      <td>120.530035</td>\n",
       "    </tr>\n",
       "    <tr>\n",
       "      <th>19</th>\n",
       "      <td>2023-12-29</td>\n",
       "      <td>-0.005537</td>\n",
       "      <td>119.857171</td>\n",
       "    </tr>\n",
       "  </tbody>\n",
       "</table>\n",
       "<p>4775 rows × 3 columns</p>\n",
       "</div>"
      ],
      "text/plain": [
       "          date  weighted_returns  cumulative_return\n",
       "0   2004-01-02          0.001269           0.001269\n",
       "1   2004-01-05          0.013972           0.015259\n",
       "2   2004-01-06         -0.002261           0.012963\n",
       "3   2004-01-07          0.002970           0.015972\n",
       "4   2004-01-08          0.001297           0.017290\n",
       "..         ...               ...                ...\n",
       "15  2023-12-22         -0.000775         120.516306\n",
       "16  2023-12-26          0.002960         120.875942\n",
       "17  2023-12-27         -0.002284         120.597533\n",
       "18  2023-12-28         -0.000555         120.530035\n",
       "19  2023-12-29         -0.005537         119.857171\n",
       "\n",
       "[4775 rows x 3 columns]"
      ]
     },
     "execution_count": 12,
     "metadata": {},
     "output_type": "execute_result"
    }
   ],
   "source": [
    "returns_df"
   ]
  },
  {
   "cell_type": "code",
   "execution_count": 8,
   "metadata": {},
   "outputs": [],
   "source": [
    "query = f\"\"\"\n",
    "SELECT \n",
    "    caldt AS date, \n",
    "    vwretd AS daily_return\n",
    "FROM \n",
    "    crsp.dsp500\n",
    "WHERE \n",
    "    caldt BETWEEN '{dates_list[0] + pd.DateOffset(days=1)}' AND '{dates_list[-1]}'\n",
    "ORDER BY \n",
    "    caldt;\n",
    "\"\"\"\n",
    "sp_returns = conn.raw_sql(query)"
   ]
  },
  {
   "cell_type": "code",
   "execution_count": 9,
   "metadata": {},
   "outputs": [],
   "source": [
    "sp_returns['date'] = pd.to_datetime(sp_returns['date'])\n",
    "\n",
    "sp_returns['cumulative_return'] = (1 + sp_returns['daily_return']).cumprod() - 1"
   ]
  },
  {
   "cell_type": "code",
   "execution_count": 11,
   "metadata": {},
   "outputs": [
    {
     "data": {
      "text/html": [
       "<div>\n",
       "<style scoped>\n",
       "    .dataframe tbody tr th:only-of-type {\n",
       "        vertical-align: middle;\n",
       "    }\n",
       "\n",
       "    .dataframe tbody tr th {\n",
       "        vertical-align: top;\n",
       "    }\n",
       "\n",
       "    .dataframe thead th {\n",
       "        text-align: right;\n",
       "    }\n",
       "</style>\n",
       "<table border=\"1\" class=\"dataframe\">\n",
       "  <thead>\n",
       "    <tr style=\"text-align: right;\">\n",
       "      <th></th>\n",
       "      <th>date</th>\n",
       "      <th>daily_return</th>\n",
       "      <th>cumulative_return</th>\n",
       "    </tr>\n",
       "  </thead>\n",
       "  <tbody>\n",
       "    <tr>\n",
       "      <th>0</th>\n",
       "      <td>2004-01-02</td>\n",
       "      <td>-0.002718</td>\n",
       "      <td>-0.002718</td>\n",
       "    </tr>\n",
       "    <tr>\n",
       "      <th>1</th>\n",
       "      <td>2004-01-05</td>\n",
       "      <td>0.012364</td>\n",
       "      <td>0.009612</td>\n",
       "    </tr>\n",
       "    <tr>\n",
       "      <th>2</th>\n",
       "      <td>2004-01-06</td>\n",
       "      <td>0.001528</td>\n",
       "      <td>0.011155</td>\n",
       "    </tr>\n",
       "    <tr>\n",
       "      <th>3</th>\n",
       "      <td>2004-01-07</td>\n",
       "      <td>0.002585</td>\n",
       "      <td>0.013769</td>\n",
       "    </tr>\n",
       "    <tr>\n",
       "      <th>4</th>\n",
       "      <td>2004-01-08</td>\n",
       "      <td>0.004679</td>\n",
       "      <td>0.018512</td>\n",
       "    </tr>\n",
       "    <tr>\n",
       "      <th>...</th>\n",
       "      <td>...</td>\n",
       "      <td>...</td>\n",
       "      <td>...</td>\n",
       "    </tr>\n",
       "    <tr>\n",
       "      <th>5028</th>\n",
       "      <td>2023-12-22</td>\n",
       "      <td>0.001708</td>\n",
       "      <td>5.375695</td>\n",
       "    </tr>\n",
       "    <tr>\n",
       "      <th>5029</th>\n",
       "      <td>2023-12-26</td>\n",
       "      <td>0.004208</td>\n",
       "      <td>5.402524</td>\n",
       "    </tr>\n",
       "    <tr>\n",
       "      <th>5030</th>\n",
       "      <td>2023-12-27</td>\n",
       "      <td>0.001604</td>\n",
       "      <td>5.412794</td>\n",
       "    </tr>\n",
       "    <tr>\n",
       "      <th>5031</th>\n",
       "      <td>2023-12-28</td>\n",
       "      <td>0.000415</td>\n",
       "      <td>5.415455</td>\n",
       "    </tr>\n",
       "    <tr>\n",
       "      <th>5032</th>\n",
       "      <td>2023-12-29</td>\n",
       "      <td>-0.002798</td>\n",
       "      <td>5.397505</td>\n",
       "    </tr>\n",
       "  </tbody>\n",
       "</table>\n",
       "<p>5033 rows × 3 columns</p>\n",
       "</div>"
      ],
      "text/plain": [
       "           date  daily_return  cumulative_return\n",
       "0    2004-01-02     -0.002718          -0.002718\n",
       "1    2004-01-05      0.012364           0.009612\n",
       "2    2004-01-06      0.001528           0.011155\n",
       "3    2004-01-07      0.002585           0.013769\n",
       "4    2004-01-08      0.004679           0.018512\n",
       "...         ...           ...                ...\n",
       "5028 2023-12-22      0.001708           5.375695\n",
       "5029 2023-12-26      0.004208           5.402524\n",
       "5030 2023-12-27      0.001604           5.412794\n",
       "5031 2023-12-28      0.000415           5.415455\n",
       "5032 2023-12-29     -0.002798           5.397505\n",
       "\n",
       "[5033 rows x 3 columns]"
      ]
     },
     "execution_count": 11,
     "metadata": {},
     "output_type": "execute_result"
    }
   ],
   "source": [
    "sp_returns"
   ]
  },
  {
   "cell_type": "code",
   "execution_count": 10,
   "metadata": {},
   "outputs": [
    {
     "data": {
      "image/png": "[encoded data removed]",
      "text/plain": [
       "<Figure size 640x480 with 1 Axes>"
      ]
     },
     "metadata": {},
     "output_type": "display_data"
    }
   ],
   "source": [
    "plt.plot(returns_df['date'], returns_df['cumulative_return'])\n",
    "plt.plot(sp_returns['date'], sp_returns['cumulative_return'])\n",
    "plt.title('Cumulative Returns of E/P portfolio vs. S&P 500')\n",
    "plt.xlabel('Date')\n",
    "plt.ylabel('Cumulative Return')\n",
    "plt.xticks(rotation=45)\n",
    "plt.legend(['Value Portfolio', 'S&P 500'])\n",
    "plt.show()"
   ]
  },
  {
   "cell_type": "markdown",
   "metadata": {},
   "source": [
    "This seems surprisingly good (probably way too good) but I'm not sure what could be incorrect, I tested the method itself on single companies so my only guess is it has to do with the rebalancing every month but even when looking into that there don't appear to be large jumps between months which I'd expect if there was an issue with that. \n",
    "\n",
    "With this cumulative return, it appears on average this strategy is making about 27% per year. However, it was clearly bolstered by the massive market boom following the covid pandemic."
   ]
  },
  {
   "cell_type": "markdown",
   "metadata": {},
   "source": [
    "Next it would be interesting to try and take advantage of two market anomalies, both this value effect and the size effect. In order to do this I'll follow the same structure but instead of using companies from the S&P 500 I will look at companies in the Russell 2000."
   ]
  }
 ],
 "metadata": {
  "kernelspec": {
   "display_name": "base",
   "language": "python",
   "name": "python3"
  },
  "language_info": {
   "codemirror_mode": {
    "name": "ipython",
    "version": 3
   },
   "file_extension": ".py",
   "mimetype": "text/x-python",
   "name": "python",
   "nbconvert_exporter": "python",
   "pygments_lexer": "ipython3",
   "version": "3.12.4"
  }
 },
 "nbformat": 4,
 "nbformat_minor": 2
}
