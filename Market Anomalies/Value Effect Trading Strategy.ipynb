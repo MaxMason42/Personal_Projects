{
 "cells": [
  {
   "cell_type": "markdown",
   "metadata": {},
   "source": [
    "# Market Anomalies\n",
    "\n",
    "In these notebooks I will be looking into different market anomalies and testing basic investing strategies revolving around these anomalies."
   ]
  },
  {
   "cell_type": "markdown",
   "metadata": {},
   "source": [
    "## 1. Value Effect:\n",
    "\n",
    "This anomaly is based on the tendency for stocks with low price to earnings ratios to outperform other stocks.\n",
    "\n",
    "I will be using stocks in the S&P 500, ranking on E/P ratio and investing in the top 10% where the investments will be weighted by the E/P ratio and traded at the end of every month."
   ]
  },
  {
   "cell_type": "code",
   "execution_count": 252,
   "metadata": {},
   "outputs": [
    {
     "name": "stdout",
     "output_type": "stream",
     "text": [
      "WRDS recommends setting up a .pgpass file.\n",
      "You can create this file yourself at any time with the create_pgpass_file() function.\n",
      "Loading library list...\n",
      "Done\n"
     ]
    }
   ],
   "source": [
    "import wrds\n",
    "import yfinance\n",
    "import pandas as pd\n",
    "import matplotlib.pyplot as plt\n",
    "\n",
    "conn = wrds.Connection()"
   ]
  },
  {
   "cell_type": "code",
   "execution_count": 95,
   "metadata": {},
   "outputs": [],
   "source": [
    "start_date = '2010-12-31'\n",
    "end_date = '2023-11-30'\n",
    "\n",
    "dates = pd.date_range(start=start_date, end=end_date, freq='ME')\n",
    "\n",
    "dates_list = dates.tolist()\n",
    "dates_list.append(pd.to_datetime('2023-12-29'))\n",
    "\n",
    "def fetch_sp500_constituents(date):\n",
    "    query = f\"\"\"\n",
    "      select * \n",
    "      from crsp.dsp500list \n",
    "      where start<='{date}'\n",
    "      and ending>='{date}'\n",
    "    \"\"\"\n",
    "    return conn.raw_sql(query)\n",
    "\n",
    "constituents = {date: fetch_sp500_constituents(date) for date in dates_list}"
   ]
  },
  {
   "cell_type": "code",
   "execution_count": 47,
   "metadata": {},
   "outputs": [],
   "source": [
    "def fetch_market_cap_batch(permnos, date):\n",
    "    permnos_str = ','.join(map(str, permnos))\n",
    "    query = f\"\"\"\n",
    "    SELECT permno, cusip, date, prc, shrout\n",
    "    FROM (\n",
    "        SELECT permno, cusip, date, prc, shrout,\n",
    "               RANK() OVER (PARTITION BY permno ORDER BY date DESC) as rank\n",
    "        FROM crsp.dsf\n",
    "        WHERE permno IN ({permnos_str}) AND date <= '{date}'\n",
    "    ) ranked\n",
    "    WHERE rank = 1\n",
    "    ORDER BY permno, date DESC\n",
    "    \"\"\"\n",
    "    return conn.raw_sql(query)\n",
    "\n",
    "market_cap_data = []\n",
    "for date in dates_list:\n",
    "    permnos = constituents[date]['permno'].tolist()\n",
    "    market_cap_data.append(fetch_market_cap_batch(permnos, date))"
   ]
  },
  {
   "cell_type": "code",
   "execution_count": 81,
   "metadata": {},
   "outputs": [],
   "source": [
    "def fetch_earnings_batch(permnos, date):\n",
    "    permnos_str = ','.join(map(str, permnos))\n",
    "    query = f\"\"\"\n",
    "    SELECT distinct left(cusip, 8) as cusip, lpermno, datadate, epspxq, datafmt, exchg, conm\n",
    "    FROM (\n",
    "        SELECT a.cusip, a.datadate, a.epspxq, b.lpermno, datafmt, exchg, conm,\n",
    "               RANK() OVER (PARTITION BY b.lpermno ORDER BY a.datadate DESC) as rank\n",
    "        FROM comp.fundq as a\n",
    "        JOIN (SELECT cusip, lpermno FROM crsp.ccm_lookup WHERE lpermno IN ({permnos_str})) as b on a.cusip = b.cusip\n",
    "        WHERE a.datadate <= '{date}'\n",
    "        AND a.epspxq IS NOT NULL\n",
    "        AND datafmt = 'STD'\n",
    "    ) ranked\n",
    "    WHERE rank = 1\n",
    "    ORDER BY lpermno, datadate DESC\n",
    "    \"\"\"\n",
    "\n",
    "    return conn.raw_sql(query)\n",
    "\n",
    "earnings_data = []\n",
    "for date in dates_list:\n",
    "    permnos = constituents[date]['permno'].tolist()\n",
    "    earnings_data.append(fetch_earnings_batch(permnos, date))"
   ]
  },
  {
   "cell_type": "code",
   "execution_count": 82,
   "metadata": {},
   "outputs": [],
   "source": [
    "monthly_data = []\n",
    "\n",
    "for i in range(len(earnings_data)):\n",
    "    market_cap_data[i]['market_cap'] =  market_cap_data[i]['prc'] * market_cap_data[i]['shrout'] * 1000\n",
    "    \n",
    "    combined_data = pd.merge(earnings_data[i], market_cap_data[i], on= 'cusip')\n",
    "\n",
    "    combined_data['E/P'] = combined_data['epspxq'] / combined_data['prc']\n",
    "\n",
    "    monthly_data.append(combined_data)"
   ]
  },
  {
   "cell_type": "code",
   "execution_count": 315,
   "metadata": {},
   "outputs": [],
   "source": [
    "monthly_company_portfolio = {}\n",
    "\n",
    "for i in range(len(dates_list)):\n",
    "    monthly_data[i]['Value_Score'] = monthly_data[i]['E/P'].rank(ascending=False) \n",
    "    top_value_stocks = monthly_data[i].nsmallest(25, 'Value_Score')\n",
    "    top_value_stocks['Weights'] = top_value_stocks['E/P']/ top_value_stocks['E/P'].sum()\n",
    "    date = dates_list[i]\n",
    "\n",
    "    monthly_company_portfolio[date] = top_value_stocks"
   ]
  },
  {
   "cell_type": "code",
   "execution_count": 316,
   "metadata": {},
   "outputs": [
    {
     "name": "stderr",
     "output_type": "stream",
     "text": [
      "C:\\Users\\Maxim\\AppData\\Local\\Temp\\ipykernel_76168\\1279761969.py:23: FutureWarning: The behavior of DataFrame concatenation with empty or all-NA entries is deprecated. In a future version, this will no longer exclude empty or all-NA columns when determining the result dtypes. To retain the old behavior, exclude the relevant entries before the concat operation.\n",
      "  returns_df = pd.concat(returns_data)\n"
     ]
    }
   ],
   "source": [
    "def fetch_monthly_returns(permnos, start_date, end_date):\n",
    "    permnos_str = ','.join(map(str, permnos))\n",
    "    query = f\"\"\"\n",
    "    SELECT date, permno, ret\n",
    "    FROM crsp.dsf\n",
    "    WHERE permno IN ({permnos_str}) AND date BETWEEN '{start_date}' AND '{end_date}'\n",
    "    \"\"\"\n",
    "    return conn.raw_sql(query)\n",
    "\n",
    "\n",
    "returns_data = []\n",
    "for date in dates_list:\n",
    "    permnos = monthly_company_portfolio[date]['permno'].tolist()\n",
    "\n",
    "    monthly_returns = fetch_monthly_returns(permnos, date + pd.DateOffset(days=1), (date + pd.DateOffset(months=1)) - pd.DateOffset(days=1))\n",
    "    monthly_returns = pd.merge(monthly_returns, monthly_company_portfolio[date][['permno', 'Weights']], on='permno')\n",
    "    monthly_returns['weighted_returns'] = monthly_returns['ret'] * monthly_returns['Weights']\n",
    "\n",
    "    daily_returns = monthly_returns.groupby('date')['weighted_returns'].sum().reset_index()\n",
    "\n",
    "    returns_data.append(daily_returns)\n",
    "\n",
    "returns_df = pd.concat(returns_data)\n",
    "\n",
    "returns_df['cumulative_return'] = (1 + returns_df['weighted_returns']).cumprod() - 1"
   ]
  },
  {
   "cell_type": "code",
   "execution_count": 317,
   "metadata": {},
   "outputs": [
    {
     "data": {
      "text/html": [
       "<div>\n",
       "<style scoped>\n",
       "    .dataframe tbody tr th:only-of-type {\n",
       "        vertical-align: middle;\n",
       "    }\n",
       "\n",
       "    .dataframe tbody tr th {\n",
       "        vertical-align: top;\n",
       "    }\n",
       "\n",
       "    .dataframe thead th {\n",
       "        text-align: right;\n",
       "    }\n",
       "</style>\n",
       "<table border=\"1\" class=\"dataframe\">\n",
       "  <thead>\n",
       "    <tr style=\"text-align: right;\">\n",
       "      <th></th>\n",
       "      <th>date</th>\n",
       "      <th>weighted_returns</th>\n",
       "      <th>cumulative_return</th>\n",
       "    </tr>\n",
       "  </thead>\n",
       "  <tbody>\n",
       "    <tr>\n",
       "      <th>0</th>\n",
       "      <td>2011-01-03</td>\n",
       "      <td>0.015804</td>\n",
       "      <td>0.015804</td>\n",
       "    </tr>\n",
       "    <tr>\n",
       "      <th>1</th>\n",
       "      <td>2011-01-04</td>\n",
       "      <td>-0.006987</td>\n",
       "      <td>0.008706</td>\n",
       "    </tr>\n",
       "    <tr>\n",
       "      <th>2</th>\n",
       "      <td>2011-01-05</td>\n",
       "      <td>0.020143</td>\n",
       "      <td>0.029024</td>\n",
       "    </tr>\n",
       "    <tr>\n",
       "      <th>3</th>\n",
       "      <td>2011-01-06</td>\n",
       "      <td>-0.001447</td>\n",
       "      <td>0.027535</td>\n",
       "    </tr>\n",
       "    <tr>\n",
       "      <th>4</th>\n",
       "      <td>2011-01-07</td>\n",
       "      <td>0.000065</td>\n",
       "      <td>0.027603</td>\n",
       "    </tr>\n",
       "    <tr>\n",
       "      <th>...</th>\n",
       "      <td>...</td>\n",
       "      <td>...</td>\n",
       "      <td>...</td>\n",
       "    </tr>\n",
       "    <tr>\n",
       "      <th>15</th>\n",
       "      <td>2023-12-22</td>\n",
       "      <td>-0.000775</td>\n",
       "      <td>13.315447</td>\n",
       "    </tr>\n",
       "    <tr>\n",
       "      <th>16</th>\n",
       "      <td>2023-12-26</td>\n",
       "      <td>0.002960</td>\n",
       "      <td>13.357815</td>\n",
       "    </tr>\n",
       "    <tr>\n",
       "      <th>17</th>\n",
       "      <td>2023-12-27</td>\n",
       "      <td>-0.002284</td>\n",
       "      <td>13.325016</td>\n",
       "    </tr>\n",
       "    <tr>\n",
       "      <th>18</th>\n",
       "      <td>2023-12-28</td>\n",
       "      <td>-0.000555</td>\n",
       "      <td>13.317065</td>\n",
       "    </tr>\n",
       "    <tr>\n",
       "      <th>19</th>\n",
       "      <td>2023-12-29</td>\n",
       "      <td>-0.005537</td>\n",
       "      <td>13.237797</td>\n",
       "    </tr>\n",
       "  </tbody>\n",
       "</table>\n",
       "<p>3101 rows × 3 columns</p>\n",
       "</div>"
      ],
      "text/plain": [
       "          date  weighted_returns  cumulative_return\n",
       "0   2011-01-03          0.015804           0.015804\n",
       "1   2011-01-04         -0.006987           0.008706\n",
       "2   2011-01-05          0.020143           0.029024\n",
       "3   2011-01-06         -0.001447           0.027535\n",
       "4   2011-01-07          0.000065           0.027603\n",
       "..         ...               ...                ...\n",
       "15  2023-12-22         -0.000775          13.315447\n",
       "16  2023-12-26          0.002960          13.357815\n",
       "17  2023-12-27         -0.002284          13.325016\n",
       "18  2023-12-28         -0.000555          13.317065\n",
       "19  2023-12-29         -0.005537          13.237797\n",
       "\n",
       "[3101 rows x 3 columns]"
      ]
     },
     "execution_count": 317,
     "metadata": {},
     "output_type": "execute_result"
    }
   ],
   "source": [
    "returns_df"
   ]
  },
  {
   "cell_type": "code",
   "execution_count": 318,
   "metadata": {},
   "outputs": [],
   "source": [
    "query = f\"\"\"\n",
    "SELECT \n",
    "    caldt AS date, \n",
    "    vwretd AS daily_return\n",
    "FROM \n",
    "    crsp.dsp500\n",
    "WHERE \n",
    "    caldt BETWEEN '{dates_list[0] + pd.DateOffset(days=1)}' AND '{dates_list[-1]}'\n",
    "ORDER BY \n",
    "    caldt;\n",
    "\"\"\"\n",
    "sp_returns = conn.raw_sql(query)"
   ]
  },
  {
   "cell_type": "code",
   "execution_count": 319,
   "metadata": {},
   "outputs": [],
   "source": [
    "sp_returns['date'] = pd.to_datetime(sp_returns['date'])\n",
    "\n",
    "sp_returns['cumulative_return'] = (1 + sp_returns['daily_return']).cumprod() - 1"
   ]
  },
  {
   "cell_type": "code",
   "execution_count": 313,
   "metadata": {},
   "outputs": [
    {
     "data": {
      "text/html": [
       "<div>\n",
       "<style scoped>\n",
       "    .dataframe tbody tr th:only-of-type {\n",
       "        vertical-align: middle;\n",
       "    }\n",
       "\n",
       "    .dataframe tbody tr th {\n",
       "        vertical-align: top;\n",
       "    }\n",
       "\n",
       "    .dataframe thead th {\n",
       "        text-align: right;\n",
       "    }\n",
       "</style>\n",
       "<table border=\"1\" class=\"dataframe\">\n",
       "  <thead>\n",
       "    <tr style=\"text-align: right;\">\n",
       "      <th></th>\n",
       "      <th>date</th>\n",
       "      <th>daily_return</th>\n",
       "      <th>cumulative_return</th>\n",
       "    </tr>\n",
       "  </thead>\n",
       "  <tbody>\n",
       "    <tr>\n",
       "      <th>0</th>\n",
       "      <td>2011-01-03</td>\n",
       "      <td>0.011325</td>\n",
       "      <td>0.011325</td>\n",
       "    </tr>\n",
       "    <tr>\n",
       "      <th>1</th>\n",
       "      <td>2011-01-04</td>\n",
       "      <td>-0.001236</td>\n",
       "      <td>0.010075</td>\n",
       "    </tr>\n",
       "    <tr>\n",
       "      <th>2</th>\n",
       "      <td>2011-01-05</td>\n",
       "      <td>0.005164</td>\n",
       "      <td>0.015291</td>\n",
       "    </tr>\n",
       "    <tr>\n",
       "      <th>3</th>\n",
       "      <td>2011-01-06</td>\n",
       "      <td>-0.001715</td>\n",
       "      <td>0.013550</td>\n",
       "    </tr>\n",
       "    <tr>\n",
       "      <th>4</th>\n",
       "      <td>2011-01-07</td>\n",
       "      <td>-0.001755</td>\n",
       "      <td>0.011771</td>\n",
       "    </tr>\n",
       "    <tr>\n",
       "      <th>...</th>\n",
       "      <td>...</td>\n",
       "      <td>...</td>\n",
       "      <td>...</td>\n",
       "    </tr>\n",
       "    <tr>\n",
       "      <th>3265</th>\n",
       "      <td>2023-12-22</td>\n",
       "      <td>0.001708</td>\n",
       "      <td>3.857202</td>\n",
       "    </tr>\n",
       "    <tr>\n",
       "      <th>3266</th>\n",
       "      <td>2023-12-26</td>\n",
       "      <td>0.004208</td>\n",
       "      <td>3.877642</td>\n",
       "    </tr>\n",
       "    <tr>\n",
       "      <th>3267</th>\n",
       "      <td>2023-12-27</td>\n",
       "      <td>0.001604</td>\n",
       "      <td>3.885465</td>\n",
       "    </tr>\n",
       "    <tr>\n",
       "      <th>3268</th>\n",
       "      <td>2023-12-28</td>\n",
       "      <td>0.000415</td>\n",
       "      <td>3.887493</td>\n",
       "    </tr>\n",
       "    <tr>\n",
       "      <th>3269</th>\n",
       "      <td>2023-12-29</td>\n",
       "      <td>-0.002798</td>\n",
       "      <td>3.873818</td>\n",
       "    </tr>\n",
       "  </tbody>\n",
       "</table>\n",
       "<p>3270 rows × 3 columns</p>\n",
       "</div>"
      ],
      "text/plain": [
       "           date  daily_return  cumulative_return\n",
       "0    2011-01-03      0.011325           0.011325\n",
       "1    2011-01-04     -0.001236           0.010075\n",
       "2    2011-01-05      0.005164           0.015291\n",
       "3    2011-01-06     -0.001715           0.013550\n",
       "4    2011-01-07     -0.001755           0.011771\n",
       "...         ...           ...                ...\n",
       "3265 2023-12-22      0.001708           3.857202\n",
       "3266 2023-12-26      0.004208           3.877642\n",
       "3267 2023-12-27      0.001604           3.885465\n",
       "3268 2023-12-28      0.000415           3.887493\n",
       "3269 2023-12-29     -0.002798           3.873818\n",
       "\n",
       "[3270 rows x 3 columns]"
      ]
     },
     "execution_count": 313,
     "metadata": {},
     "output_type": "execute_result"
    }
   ],
   "source": [
    "sp_returns"
   ]
  },
  {
   "cell_type": "code",
   "execution_count": 320,
   "metadata": {},
   "outputs": [
    {
     "data": {
      "image/png": "[encoded data removed]",
      "text/plain": [
       "<Figure size 640x480 with 1 Axes>"
      ]
     },
     "metadata": {},
     "output_type": "display_data"
    }
   ],
   "source": [
    "plt.plot(returns_df['date'], returns_df['cumulative_return'])\n",
    "plt.plot(sp_returns['date'], sp_returns['cumulative_return'])\n",
    "plt.title('Cumulative Returns of E/P portfolio vs. S&P 500')\n",
    "plt.xlabel('Date')\n",
    "plt.ylabel('Cumulative Return')\n",
    "plt.xticks(rotation=45)\n",
    "plt.legend(['Value Portfolio', 'S&P 500'])\n",
    "plt.show()"
   ]
  },
  {
   "cell_type": "markdown",
   "metadata": {},
   "source": [
    "This seems surprisingly good (maybe too good) but I'm not sure what could be incorrect, I tested the method itself on single companies so my only guess is it has to do with the rebalancing every month but even when looking into that there don't appear to be large jumps between months which I'd expect if there was an issue with that. \n",
    "\n",
    "It looks like this strategy works quite well during bull markets but during bear markets may struggle. "
   ]
  },
  {
   "cell_type": "markdown",
   "metadata": {},
   "source": [
    "Next it would be interesting to try and take advantage of two market anomalies, both this value effect and the size effect. In order to do this I'll follow the same structure but instead of using companies from the S&P 500 I will look at companies in the Russell 2000."
   ]
  }
 ],
 "metadata": {
  "kernelspec": {
   "display_name": "base",
   "language": "python",
   "name": "python3"
  },
  "language_info": {
   "codemirror_mode": {
    "name": "ipython",
    "version": 3
   },
   "file_extension": ".py",
   "mimetype": "text/x-python",
   "name": "python",
   "nbconvert_exporter": "python",
   "pygments_lexer": "ipython3",
   "version": "3.12.4"
  }
 },
 "nbformat": 4,
 "nbformat_minor": 2
}
