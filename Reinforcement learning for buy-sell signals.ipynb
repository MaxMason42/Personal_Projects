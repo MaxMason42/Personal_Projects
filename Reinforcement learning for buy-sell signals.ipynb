{
 "cells": [
  {
   "cell_type": "code",
   "execution_count": 2,
   "metadata": {},
   "outputs": [],
   "source": [
    "import pandas as pd\n",
    "import numpy as np\n",
    "import yfinance"
   ]
  },
  {
   "cell_type": "markdown",
   "metadata": {},
   "source": [
    "This notebook will be looking into the viability of using reinforcement learning, specifically variations of Q-Learning, to identify buy and sell signals within a stock.\n",
    "\n",
    "\n",
    "The first test will be using a simple Q-Learning algorithm with a few variations of data including solely stock price data and combinations of stock data and trading volume, a moving average, and news sentiment to see how this algorithm performs and if it is able to create a trading strategy that works on new data."
   ]
  },
  {
   "cell_type": "code",
   "execution_count": 4,
   "metadata": {},
   "outputs": [],
   "source": [
    "MSFT = yfinance.Ticker('MSFT')\n",
    "MSFT_data = MSFT.history(start='2018-01-01', end= '2024-01-01')\n",
    "MSFT_data.reset_index(inplace=True)\n",
    "MSFT_data = MSFT_data.drop(['Open', 'High', 'Low', 'Dividends', 'Stock Splits'], axis=1)\n",
    "MSFT_data['Date'] = pd.to_datetime(MSFT_data['Date']).dt.date"
   ]
  },
  {
   "cell_type": "code",
   "execution_count": 15,
   "metadata": {},
   "outputs": [
    {
     "data": {
      "text/html": [
       "<div>\n",
       "<style scoped>\n",
       "    .dataframe tbody tr th:only-of-type {\n",
       "        vertical-align: middle;\n",
       "    }\n",
       "\n",
       "    .dataframe tbody tr th {\n",
       "        vertical-align: top;\n",
       "    }\n",
       "\n",
       "    .dataframe thead th {\n",
       "        text-align: right;\n",
       "    }\n",
       "</style>\n",
       "<table border=\"1\" class=\"dataframe\">\n",
       "  <thead>\n",
       "    <tr style=\"text-align: right;\">\n",
       "      <th></th>\n",
       "      <th>Date</th>\n",
       "      <th>Close</th>\n",
       "      <th>Volume</th>\n",
       "    </tr>\n",
       "  </thead>\n",
       "  <tbody>\n",
       "    <tr>\n",
       "      <th>0</th>\n",
       "      <td>2018-01-02</td>\n",
       "      <td>79.936745</td>\n",
       "      <td>22483800</td>\n",
       "    </tr>\n",
       "    <tr>\n",
       "      <th>1</th>\n",
       "      <td>2018-01-03</td>\n",
       "      <td>80.308739</td>\n",
       "      <td>26061400</td>\n",
       "    </tr>\n",
       "    <tr>\n",
       "      <th>2</th>\n",
       "      <td>2018-01-04</td>\n",
       "      <td>81.015594</td>\n",
       "      <td>21912000</td>\n",
       "    </tr>\n",
       "    <tr>\n",
       "      <th>3</th>\n",
       "      <td>2018-01-05</td>\n",
       "      <td>82.020020</td>\n",
       "      <td>23407100</td>\n",
       "    </tr>\n",
       "    <tr>\n",
       "      <th>4</th>\n",
       "      <td>2018-01-08</td>\n",
       "      <td>82.103722</td>\n",
       "      <td>22113000</td>\n",
       "    </tr>\n",
       "    <tr>\n",
       "      <th>...</th>\n",
       "      <td>...</td>\n",
       "      <td>...</td>\n",
       "      <td>...</td>\n",
       "    </tr>\n",
       "    <tr>\n",
       "      <th>1504</th>\n",
       "      <td>2023-12-22</td>\n",
       "      <td>373.215424</td>\n",
       "      <td>17091100</td>\n",
       "    </tr>\n",
       "    <tr>\n",
       "      <th>1505</th>\n",
       "      <td>2023-12-26</td>\n",
       "      <td>373.295135</td>\n",
       "      <td>12673100</td>\n",
       "    </tr>\n",
       "    <tr>\n",
       "      <th>1506</th>\n",
       "      <td>2023-12-27</td>\n",
       "      <td>372.707275</td>\n",
       "      <td>14905400</td>\n",
       "    </tr>\n",
       "    <tr>\n",
       "      <th>1507</th>\n",
       "      <td>2023-12-28</td>\n",
       "      <td>373.912842</td>\n",
       "      <td>14327000</td>\n",
       "    </tr>\n",
       "    <tr>\n",
       "      <th>1508</th>\n",
       "      <td>2023-12-29</td>\n",
       "      <td>374.670074</td>\n",
       "      <td>18723000</td>\n",
       "    </tr>\n",
       "  </tbody>\n",
       "</table>\n",
       "<p>1509 rows × 3 columns</p>\n",
       "</div>"
      ],
      "text/plain": [
       "            Date       Close    Volume\n",
       "0     2018-01-02   79.936745  22483800\n",
       "1     2018-01-03   80.308739  26061400\n",
       "2     2018-01-04   81.015594  21912000\n",
       "3     2018-01-05   82.020020  23407100\n",
       "4     2018-01-08   82.103722  22113000\n",
       "...          ...         ...       ...\n",
       "1504  2023-12-22  373.215424  17091100\n",
       "1505  2023-12-26  373.295135  12673100\n",
       "1506  2023-12-27  372.707275  14905400\n",
       "1507  2023-12-28  373.912842  14327000\n",
       "1508  2023-12-29  374.670074  18723000\n",
       "\n",
       "[1509 rows x 3 columns]"
      ]
     },
     "execution_count": 15,
     "metadata": {},
     "output_type": "execute_result"
    }
   ],
   "source": [
    "MSFT_data"
   ]
  },
  {
   "cell_type": "code",
   "execution_count": null,
   "metadata": {},
   "outputs": [],
   "source": [
    "#Bin returns from the previous n time periods to reduce state space\n",
    "#Basically the state space could be like high, medium, low, none, negative low, negative medium, negative high\n",
    "#And then we do that for n number of days, i.e. 1 is just what the change was from the day before\n",
    "#2 would be the change from the day before and the change from 2 days like [low, none] and so on...\n",
    "#This would allow us to reduce the state space so the algorithm can learn and apply what it learns to\n",
    "#future data because just using the actual stock price, since it is continuous we will likely never have the\n",
    "#same close on multiple days making it impossible for it to learn."
   ]
  },
  {
   "cell_type": "code",
   "execution_count": null,
   "metadata": {},
   "outputs": [],
   "source": [
    "#Regular Q-Learning\n",
    "\n",
    "class QLearning:\n",
    "    def __init__(self, alpha, gamma, available_actions):\n",
    "        self.alpha = alpha\n",
    "        self.gamma = gamma\n",
    "        self.available_actions = available_actions\n",
    "        self.q_table = dict()\n",
    "    \n",
    "    \n"
   ]
  },
  {
   "cell_type": "code",
   "execution_count": null,
   "metadata": {},
   "outputs": [],
   "source": [
    "#Test with different combinations of stock changes, moving averages, trading volume, and sentiment"
   ]
  }
 ],
 "metadata": {
  "kernelspec": {
   "display_name": "base",
   "language": "python",
   "name": "python3"
  },
  "language_info": {
   "codemirror_mode": {
    "name": "ipython",
    "version": 3
   },
   "file_extension": ".py",
   "mimetype": "text/x-python",
   "name": "python",
   "nbconvert_exporter": "python",
   "pygments_lexer": "ipython3",
   "version": "3.11.3"
  }
 },
 "nbformat": 4,
 "nbformat_minor": 2
}
